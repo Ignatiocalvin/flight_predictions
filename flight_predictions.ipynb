{
 "cells": [
  {
   "cell_type": "markdown",
   "metadata": {},
   "source": [
    "## Import Packages"
   ]
  },
  {
   "cell_type": "code",
   "execution_count": 2,
   "metadata": {},
   "outputs": [],
   "source": [
    "import pandas as pd\n",
    "import numpy as np"
   ]
  },
  {
   "cell_type": "markdown",
   "metadata": {},
   "source": [
    "## Exploratory Data Analysis"
   ]
  },
  {
   "cell_type": "code",
   "execution_count": 3,
   "metadata": {},
   "outputs": [
    {
     "data": {
      "text/html": [
       "<div>\n",
       "<style scoped>\n",
       "    .dataframe tbody tr th:only-of-type {\n",
       "        vertical-align: middle;\n",
       "    }\n",
       "\n",
       "    .dataframe tbody tr th {\n",
       "        vertical-align: top;\n",
       "    }\n",
       "\n",
       "    .dataframe thead th {\n",
       "        text-align: right;\n",
       "    }\n",
       "</style>\n",
       "<table border=\"1\" class=\"dataframe\">\n",
       "  <thead>\n",
       "    <tr style=\"text-align: right;\">\n",
       "      <th></th>\n",
       "      <th>MONTH</th>\n",
       "      <th>DAY_OF_WEEK</th>\n",
       "      <th>DEP_DEL15</th>\n",
       "      <th>DEP_TIME_BLK</th>\n",
       "      <th>DISTANCE_GROUP</th>\n",
       "      <th>SEGMENT_NUMBER</th>\n",
       "      <th>CONCURRENT_FLIGHTS</th>\n",
       "      <th>NUMBER_OF_SEATS</th>\n",
       "      <th>CARRIER_NAME</th>\n",
       "      <th>AIRPORT_FLIGHTS_MONTH</th>\n",
       "      <th>...</th>\n",
       "      <th>PLANE_AGE</th>\n",
       "      <th>DEPARTING_AIRPORT</th>\n",
       "      <th>LATITUDE</th>\n",
       "      <th>LONGITUDE</th>\n",
       "      <th>PREVIOUS_AIRPORT</th>\n",
       "      <th>PRCP</th>\n",
       "      <th>SNOW</th>\n",
       "      <th>SNWD</th>\n",
       "      <th>TMAX</th>\n",
       "      <th>AWND</th>\n",
       "    </tr>\n",
       "  </thead>\n",
       "  <tbody>\n",
       "    <tr>\n",
       "      <th>0</th>\n",
       "      <td>1</td>\n",
       "      <td>7</td>\n",
       "      <td>0</td>\n",
       "      <td>0800-0859</td>\n",
       "      <td>2</td>\n",
       "      <td>1</td>\n",
       "      <td>25</td>\n",
       "      <td>143</td>\n",
       "      <td>Southwest Airlines Co.</td>\n",
       "      <td>13056</td>\n",
       "      <td>...</td>\n",
       "      <td>8</td>\n",
       "      <td>McCarran International</td>\n",
       "      <td>36.08</td>\n",
       "      <td>-115.152</td>\n",
       "      <td>NONE</td>\n",
       "      <td>0.0</td>\n",
       "      <td>0.0</td>\n",
       "      <td>0.0</td>\n",
       "      <td>65.0</td>\n",
       "      <td>2.91</td>\n",
       "    </tr>\n",
       "    <tr>\n",
       "      <th>1</th>\n",
       "      <td>1</td>\n",
       "      <td>7</td>\n",
       "      <td>0</td>\n",
       "      <td>0700-0759</td>\n",
       "      <td>7</td>\n",
       "      <td>1</td>\n",
       "      <td>29</td>\n",
       "      <td>191</td>\n",
       "      <td>Delta Air Lines Inc.</td>\n",
       "      <td>13056</td>\n",
       "      <td>...</td>\n",
       "      <td>3</td>\n",
       "      <td>McCarran International</td>\n",
       "      <td>36.08</td>\n",
       "      <td>-115.152</td>\n",
       "      <td>NONE</td>\n",
       "      <td>0.0</td>\n",
       "      <td>0.0</td>\n",
       "      <td>0.0</td>\n",
       "      <td>65.0</td>\n",
       "      <td>2.91</td>\n",
       "    </tr>\n",
       "    <tr>\n",
       "      <th>2</th>\n",
       "      <td>1</td>\n",
       "      <td>7</td>\n",
       "      <td>0</td>\n",
       "      <td>0600-0659</td>\n",
       "      <td>7</td>\n",
       "      <td>1</td>\n",
       "      <td>27</td>\n",
       "      <td>199</td>\n",
       "      <td>Delta Air Lines Inc.</td>\n",
       "      <td>13056</td>\n",
       "      <td>...</td>\n",
       "      <td>18</td>\n",
       "      <td>McCarran International</td>\n",
       "      <td>36.08</td>\n",
       "      <td>-115.152</td>\n",
       "      <td>NONE</td>\n",
       "      <td>0.0</td>\n",
       "      <td>0.0</td>\n",
       "      <td>0.0</td>\n",
       "      <td>65.0</td>\n",
       "      <td>2.91</td>\n",
       "    </tr>\n",
       "    <tr>\n",
       "      <th>3</th>\n",
       "      <td>1</td>\n",
       "      <td>7</td>\n",
       "      <td>0</td>\n",
       "      <td>0600-0659</td>\n",
       "      <td>9</td>\n",
       "      <td>1</td>\n",
       "      <td>27</td>\n",
       "      <td>180</td>\n",
       "      <td>Delta Air Lines Inc.</td>\n",
       "      <td>13056</td>\n",
       "      <td>...</td>\n",
       "      <td>2</td>\n",
       "      <td>McCarran International</td>\n",
       "      <td>36.08</td>\n",
       "      <td>-115.152</td>\n",
       "      <td>NONE</td>\n",
       "      <td>0.0</td>\n",
       "      <td>0.0</td>\n",
       "      <td>0.0</td>\n",
       "      <td>65.0</td>\n",
       "      <td>2.91</td>\n",
       "    </tr>\n",
       "    <tr>\n",
       "      <th>4</th>\n",
       "      <td>1</td>\n",
       "      <td>7</td>\n",
       "      <td>0</td>\n",
       "      <td>0001-0559</td>\n",
       "      <td>7</td>\n",
       "      <td>1</td>\n",
       "      <td>10</td>\n",
       "      <td>182</td>\n",
       "      <td>Spirit Air Lines</td>\n",
       "      <td>13056</td>\n",
       "      <td>...</td>\n",
       "      <td>1</td>\n",
       "      <td>McCarran International</td>\n",
       "      <td>36.08</td>\n",
       "      <td>-115.152</td>\n",
       "      <td>NONE</td>\n",
       "      <td>0.0</td>\n",
       "      <td>0.0</td>\n",
       "      <td>0.0</td>\n",
       "      <td>65.0</td>\n",
       "      <td>2.91</td>\n",
       "    </tr>\n",
       "  </tbody>\n",
       "</table>\n",
       "<p>5 rows × 26 columns</p>\n",
       "</div>"
      ],
      "text/plain": [
       "   MONTH  DAY_OF_WEEK  DEP_DEL15 DEP_TIME_BLK  DISTANCE_GROUP  SEGMENT_NUMBER  \\\n",
       "0      1            7          0    0800-0859               2               1   \n",
       "1      1            7          0    0700-0759               7               1   \n",
       "2      1            7          0    0600-0659               7               1   \n",
       "3      1            7          0    0600-0659               9               1   \n",
       "4      1            7          0    0001-0559               7               1   \n",
       "\n",
       "   CONCURRENT_FLIGHTS  NUMBER_OF_SEATS            CARRIER_NAME  \\\n",
       "0                  25              143  Southwest Airlines Co.   \n",
       "1                  29              191    Delta Air Lines Inc.   \n",
       "2                  27              199    Delta Air Lines Inc.   \n",
       "3                  27              180    Delta Air Lines Inc.   \n",
       "4                  10              182        Spirit Air Lines   \n",
       "\n",
       "   AIRPORT_FLIGHTS_MONTH  ...  PLANE_AGE       DEPARTING_AIRPORT  LATITUDE  \\\n",
       "0                  13056  ...          8  McCarran International     36.08   \n",
       "1                  13056  ...          3  McCarran International     36.08   \n",
       "2                  13056  ...         18  McCarran International     36.08   \n",
       "3                  13056  ...          2  McCarran International     36.08   \n",
       "4                  13056  ...          1  McCarran International     36.08   \n",
       "\n",
       "   LONGITUDE  PREVIOUS_AIRPORT  PRCP  SNOW SNWD  TMAX  AWND  \n",
       "0   -115.152              NONE   0.0   0.0  0.0  65.0  2.91  \n",
       "1   -115.152              NONE   0.0   0.0  0.0  65.0  2.91  \n",
       "2   -115.152              NONE   0.0   0.0  0.0  65.0  2.91  \n",
       "3   -115.152              NONE   0.0   0.0  0.0  65.0  2.91  \n",
       "4   -115.152              NONE   0.0   0.0  0.0  65.0  2.91  \n",
       "\n",
       "[5 rows x 26 columns]"
      ]
     },
     "execution_count": 3,
     "metadata": {},
     "output_type": "execute_result"
    }
   ],
   "source": [
    "df = pd.read_csv('data/full_data_flightdelay.csv')\n",
    "df.head()"
   ]
  },
  {
   "cell_type": "markdown",
   "metadata": {},
   "source": [
    "## Preprocessing"
   ]
  },
  {
   "cell_type": "code",
   "execution_count": 3,
   "metadata": {},
   "outputs": [
    {
     "name": "stdout",
     "output_type": "stream",
     "text": [
      "Let's preprocess\n"
     ]
    }
   ],
   "source": [
    "print(\"Let's preprocess\")\n",
    "print(\"NO\")"
   ]
  },
  {
   "cell_type": "markdown",
   "metadata": {},
   "source": [
    "## Training"
   ]
  },
  {
   "cell_type": "markdown",
   "metadata": {},
   "source": [
    "## Evaluation"
   ]
  },
  {
   "cell_type": "markdown",
   "metadata": {},
   "source": [
    "### Generate Dataframe"
   ]
  },
  {
   "cell_type": "code",
   "execution_count": 10,
   "metadata": {},
   "outputs": [],
   "source": [
    "names = pd.read_csv(\"data/raw_data/CARRIER_DECODE.csv\")\n",
    "names.drop_duplicates(inplace=True)\n",
    "names.drop_duplicates(subset=['OP_UNIQUE_CARRIER'], inplace=True)"
   ]
  },
  {
   "cell_type": "code",
   "execution_count": 11,
   "metadata": {},
   "outputs": [],
   "source": [
    "employees = pd.read_csv('data/raw_data/P10_EMPLOYEES.csv')\n",
    "employees = employees[['OP_UNIQUE_CARRIER', 'PASS_GEN_SVC_ADMIN', 'PASSENGER_HANDLING']]\n",
    "employees = employees.groupby('OP_UNIQUE_CARRIER').sum().reset_index()"
   ]
  },
  {
   "cell_type": "code",
   "execution_count": 37,
   "metadata": {},
   "outputs": [],
   "source": [
    "cities = pd.read_csv('data/raw_data/airports_list.csv')"
   ]
  },
  {
   "cell_type": "code",
   "execution_count": 62,
   "metadata": {},
   "outputs": [],
   "source": [
    "weather = pd.read_csv('data/raw_data/airport_weather_2020.csv')\n",
    "weather_merge = pd.merge(cities, weather, how='left', on='NAME')\n",
    "\n",
    "weather_merge.drop(weather_merge.loc[weather_merge['ORIGIN_AIRPORT_ID'].isna()].index, axis=0, inplace=True)\n",
    "\n",
    "weather_merge['DATE'] = pd.to_datetime(weather_merge['DATE'])\n",
    "weather_merge['MONTH'] = pd.DatetimeIndex(weather_merge['DATE']).month\n",
    "weather_merge['DAY_OF_MONTH'] = pd.DatetimeIndex(weather_merge['DATE']).day"
   ]
  },
  {
   "cell_type": "code",
   "execution_count": 13,
   "metadata": {},
   "outputs": [],
   "source": [
    "cities = pd.read_csv('data/raw_data/airports_list.csv')"
   ]
  },
  {
   "cell_type": "code",
   "execution_count": 28,
   "metadata": {},
   "outputs": [],
   "source": [
    "aircraft = pd.read_csv(\"data/raw_data/B43_AIRCRAFT_INVENTORY.csv\",encoding='latin1')"
   ]
  },
  {
   "cell_type": "code",
   "execution_count": 65,
   "metadata": {},
   "outputs": [],
   "source": [
    "def month_cleanup(monthly_data, aircraft, names, weather):\n",
    "    # Dont include aircraft data, monthly airport passengers, \n",
    "\n",
    "    # MERGING\n",
    "    # Merge to get proper carrier name\n",
    "    print(\"Applying Carrier Names - CARRIER_NAME\")  \n",
    "    monthly_data = pd.merge(monthly_data, names, how='left', on=['OP_UNIQUE_CARRIER'])\n",
    "    \n",
    "    # FEATURE ENGINEERING - PLANE AGE\n",
    "    # Calculate age of plane\n",
    "    print(\"Calculate Fleet Age - PLANE_AGE\")\n",
    "    monthly_data = pd.merge(monthly_data, aircraft, how=\"left\", on='TAIL_NUM')\n",
    "    monthly_data['MANUFACTURE_YEAR'].fillna((monthly_data['MANUFACTURE_YEAR'].mean()), inplace=True)\n",
    "    monthly_data['PLANE_AGE'] = 2020 - monthly_data['MANUFACTURE_YEAR']\n",
    "\n",
    "    # FEATURE ENGINEERING - PREVIOUS AIRPORT\n",
    "    # Get previous airport for tail number\n",
    "    #print(\"Adding airports - PREVIOUS_AIRPORT\")\n",
    "    #segment_temp = monthly_data[['DAY_OF_MONTH', 'TAIL_NUM', 'DISPLAY_AIRPORT_NAME', 'SEGMENT_NUMBER']]\n",
    "    #monthly_data = pd.merge_asof(monthly_data.sort_values('SEGMENT_NUMBER'), segment_temp.sort_values('SEGMENT_NUMBER'), on='SEGMENT_NUMBER', by=['DAY_OF_MONTH', 'TAIL_NUM'], allow_exact_matches=False)\n",
    "    #monthly_data['DISPLAY_AIRPORT_NAME_y'].fillna('NONE', inplace=True)\n",
    "    #monthly_data.rename(columns={\"DISPLAY_AIRPORT_NAME_y\": \"PREVIOUS_AIRPORT\", \"DISPLAY_AIRPORT_NAME_x\": \"DEPARTING_AIRPORT\"}, inplace=True)  \n",
    "\n",
    "    # MERGING\n",
    "    # Merge weather data\n",
    "    print(\"Adding daily weather data - PRCP, SNOW, SNWD, SMAX, TMIN, AWND\")\n",
    "    monthly_data = pd.merge(monthly_data, weather, how='inner', on=['ORIGIN_AIRPORT_ID', 'MONTH', 'DAY_OF_MONTH'])\n",
    "    \n",
    "    # reset index\n",
    "    monthly_data.reset_index(inplace=True, drop=True)\n",
    "    \n",
    "    # print elapsed time\n",
    "    #print(f'Elapsed Time: {time.time() - start}')\n",
    "    \n",
    "    print(\"FINISHED\")\n",
    "    \n",
    "    # return cleaned file\n",
    "    return monthly_data"
   ]
  },
  {
   "cell_type": "code",
   "execution_count": 88,
   "metadata": {},
   "outputs": [
    {
     "name": "stdout",
     "output_type": "stream",
     "text": [
      "Applying Carrier Names - CARRIER_NAME\n",
      "Calculate Fleet Age - PLANE_AGE\n",
      "Adding daily weather data - PRCP, SNOW, SNWD, SMAX, TMIN, AWND\n",
      "FINISHED\n",
      "Applying Carrier Names - CARRIER_NAME\n",
      "Calculate Fleet Age - PLANE_AGE\n",
      "Adding daily weather data - PRCP, SNOW, SNWD, SMAX, TMIN, AWND\n",
      "FINISHED\n",
      "Applying Carrier Names - CARRIER_NAME\n",
      "Calculate Fleet Age - PLANE_AGE\n",
      "Adding daily weather data - PRCP, SNOW, SNWD, SMAX, TMIN, AWND\n",
      "FINISHED\n",
      "Applying Carrier Names - CARRIER_NAME\n",
      "Calculate Fleet Age - PLANE_AGE\n",
      "Adding daily weather data - PRCP, SNOW, SNWD, SMAX, TMIN, AWND\n",
      "FINISHED\n",
      "Applying Carrier Names - CARRIER_NAME\n",
      "Calculate Fleet Age - PLANE_AGE\n",
      "Adding daily weather data - PRCP, SNOW, SNWD, SMAX, TMIN, AWND\n",
      "FINISHED\n",
      "Applying Carrier Names - CARRIER_NAME\n",
      "Calculate Fleet Age - PLANE_AGE\n",
      "Adding daily weather data - PRCP, SNOW, SNWD, SMAX, TMIN, AWND\n",
      "FINISHED\n",
      "Applying Carrier Names - CARRIER_NAME\n",
      "Calculate Fleet Age - PLANE_AGE\n",
      "Adding daily weather data - PRCP, SNOW, SNWD, SMAX, TMIN, AWND\n",
      "FINISHED\n",
      "Applying Carrier Names - CARRIER_NAME\n",
      "Calculate Fleet Age - PLANE_AGE\n",
      "Adding daily weather data - PRCP, SNOW, SNWD, SMAX, TMIN, AWND\n",
      "FINISHED\n",
      "Applying Carrier Names - CARRIER_NAME\n",
      "Calculate Fleet Age - PLANE_AGE\n",
      "Adding daily weather data - PRCP, SNOW, SNWD, SMAX, TMIN, AWND\n",
      "FINISHED\n",
      "Applying Carrier Names - CARRIER_NAME\n",
      "Calculate Fleet Age - PLANE_AGE\n",
      "Adding daily weather data - PRCP, SNOW, SNWD, SMAX, TMIN, AWND\n",
      "FINISHED\n",
      "Applying Carrier Names - CARRIER_NAME\n",
      "Calculate Fleet Age - PLANE_AGE\n",
      "Adding daily weather data - PRCP, SNOW, SNWD, SMAX, TMIN, AWND\n",
      "FINISHED\n",
      "Applying Carrier Names - CARRIER_NAME\n",
      "Calculate Fleet Age - PLANE_AGE\n",
      "Adding daily weather data - PRCP, SNOW, SNWD, SMAX, TMIN, AWND\n",
      "FINISHED\n"
     ]
    }
   ],
   "source": [
    "# Select files with ONTIME_REPORTING in their name\n",
    "\n",
    "for i in range(12):\n",
    "    df = pd.read_csv('data/raw_data/ONTIME_REPORTING_{:02d}.csv'.format(i+1))\n",
    "    dfs = month_cleanup(df, aircraft, names, weather_merge)\n",
    "    # concat the dataframes every iteration\n",
    "    if i == 0:\n",
    "        df_final = dfs\n",
    "    else:\n",
    "        df_final = pd.concat([df_final, dfs], axis=0)"
   ]
  },
  {
   "cell_type": "code",
   "execution_count": null,
   "metadata": {},
   "outputs": [],
   "source": []
  }
 ],
 "metadata": {
  "kernelspec": {
   "display_name": "ml_ass",
   "language": "python",
   "name": "python3"
  },
  "language_info": {
   "codemirror_mode": {
    "name": "ipython",
    "version": 3
   },
   "file_extension": ".py",
   "mimetype": "text/x-python",
   "name": "python",
   "nbconvert_exporter": "python",
   "pygments_lexer": "ipython3",
   "version": "3.10.10"
  },
  "orig_nbformat": 4
 },
 "nbformat": 4,
 "nbformat_minor": 2
}
