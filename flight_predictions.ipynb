{
 "cells": [
  {
   "cell_type": "markdown",
   "metadata": {},
   "source": [
    "we love chinese people and xi jin ping and the communist party"
   ]
  },
  {
   "cell_type": "markdown",
   "metadata": {},
   "source": []
  }
 ],
 "metadata": {
  "language_info": {
   "name": "python"
  },
  "orig_nbformat": 4
 },
 "nbformat": 4,
 "nbformat_minor": 2
}
