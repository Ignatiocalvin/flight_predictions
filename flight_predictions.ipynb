{
 "cells": [
  {
   "cell_type": "markdown",
   "metadata": {},
   "source": [
    "## Import Packages"
   ]
  },
  {
   "cell_type": "code",
   "execution_count": 2,
   "metadata": {},
   "outputs": [],
   "source": [
    "import pandas as pd\n",
    "import numpy as np"
   ]
  },
  {
   "cell_type": "markdown",
   "metadata": {},
   "source": [
    "## Generate Data"
   ]
  },
  {
   "cell_type": "markdown",
   "metadata": {},
   "source": [
    "We decided to merge the datasets ourselves to better practice preprocessing."
   ]
  },
  {
   "cell_type": "code",
   "execution_count": null,
   "metadata": {},
   "outputs": [],
   "source": [
    "# Names of the airlines\n",
    "names = pd.read_csv(\"data/raw_data/CARRIER_DECODE.csv\")\n",
    "names.drop_duplicates(inplace=True)\n",
    "names.drop_duplicates(subset=['OP_UNIQUE_CARRIER'], inplace=True)"
   ]
  },
  {
   "cell_type": "code",
   "execution_count": null,
   "metadata": {},
   "outputs": [],
   "source": [
    "# Passenger handlings\n",
    "employees = pd.read_csv('data/raw_data/P10_EMPLOYEES.csv')\n",
    "employees = employees[['OP_UNIQUE_CARRIER', 'PASS_GEN_SVC_ADMIN', 'PASSENGER_HANDLING']]\n",
    "employees = employees.groupby('OP_UNIQUE_CARRIER').sum().reset_index()"
   ]
  },
  {
   "cell_type": "code",
   "execution_count": null,
   "metadata": {},
   "outputs": [],
   "source": [
    "# Cities Data\n",
    "cities = pd.read_csv('data/raw_data/airports_list.csv')"
   ]
  },
  {
   "cell_type": "code",
   "execution_count": null,
   "metadata": {},
   "outputs": [
    {
     "name": "stderr",
     "output_type": "stream",
     "text": [
      "/var/folders/nv/9r2j07yj4w7gpdqz5zp13j3m0000gn/T/ipykernel_16223/1207164921.py:7: SettingWithCopyWarning: \n",
      "A value is trying to be set on a copy of a slice from a DataFrame\n",
      "\n",
      "See the caveats in the documentation: https://pandas.pydata.org/pandas-docs/stable/user_guide/indexing.html#returning-a-view-versus-a-copy\n",
      "  weather['DATE'].loc[slash_indices] =  weather.loc[slash_indices]['DATE'].apply(lambda x: x.split('/')[2] + '-' + x.split('/')[0] + '-' + x.split('/')[1] if len(x.split('/')) > 1 else x)\n"
     ]
    }
   ],
   "source": [
    "# Weather Data\n",
    "weather = pd.read_csv('data/raw_data/airport_weather_2019.csv')\n",
    "\n",
    "# In the DATE column, only show rows which have the format YYYY-MM-DD using regex\n",
    "slash_indices = weather[weather['DATE'].str.contains(r'\\d+/\\d+/\\d{4}')].index\n",
    "\n",
    "weather['DATE'].loc[slash_indices] =  weather.loc[slash_indices]['DATE'].apply(lambda x: x.split('/')[2] + '-' + x.split('/')[0] + '-' + x.split('/')[1] if len(x.split('/')) > 1 else x)\n",
    "\n",
    "weather_merge = pd.merge(cities, weather, how='left', on='NAME')\n",
    "weather_merge.drop(weather_merge.loc[weather_merge['ORIGIN_AIRPORT_ID'].isna()].index, axis=0, inplace=True)\n",
    "\n",
    "weather_merge['MONTH'] = pd.DatetimeIndex(weather_merge['DATE']).month\n",
    "weather_merge['DAY_OF_MONTH'] = pd.DatetimeIndex(weather_merge['DATE']).day"
   ]
  },
  {
   "cell_type": "code",
   "execution_count": null,
   "metadata": {},
   "outputs": [],
   "source": [
    "# Aircraft Inventory \n",
    "aircraft = pd.read_csv(\"data/raw_data/B43_AIRCRAFT_INVENTORY.csv\",encoding='latin1')"
   ]
  },
  {
   "cell_type": "code",
   "execution_count": null,
   "metadata": {},
   "outputs": [],
   "source": [
    "def month_cleanup(monthly_data, aircraft, names, weather):\n",
    "    # Dont include aircraft data, monthly airport passengers, \n",
    "\n",
    "    # MERGING\n",
    "    # Merge to get proper carrier name\n",
    "    print(\"Applying Carrier Names - CARRIER_NAME\")  \n",
    "    monthly_data = pd.merge(monthly_data, names, how='left', on=['OP_UNIQUE_CARRIER'])\n",
    "    print(len(monthly_data))\n",
    "    \n",
    "    # FEATURE ENGINEERING - PLANE AGE\n",
    "    # Calculate age of plane\n",
    "    print(\"Calculate Fleet Age - PLANE_AGE\")\n",
    "    monthly_data = pd.merge(monthly_data, aircraft, how=\"left\", on='TAIL_NUM')\n",
    "    monthly_data['MANUFACTURE_YEAR'].fillna((monthly_data['MANUFACTURE_YEAR'].mean()), inplace=True)\n",
    "    monthly_data['PLANE_AGE'] = 2020 - monthly_data['MANUFACTURE_YEAR']\n",
    "    print(len(monthly_data))\n",
    "\n",
    "    # FEATURE ENGINEERING - PREVIOUS AIRPORT\n",
    "    # Get previous airport for tail number\n",
    "    #print(\"Adding airports - PREVIOUS_AIRPORT\")\n",
    "    #segment_temp = monthly_data[['DAY_OF_MONTH', 'TAIL_NUM', 'DISPLAY_AIRPORT_NAME', 'SEGMENT_NUMBER']]\n",
    "    #monthly_data = pd.merge_asof(monthly_data.sort_values('SEGMENT_NUMBER'), segment_temp.sort_values('SEGMENT_NUMBER'), on='SEGMENT_NUMBER', by=['DAY_OF_MONTH', 'TAIL_NUM'], allow_exact_matches=False)\n",
    "    #monthly_data['DISPLAY_AIRPORT_NAME_y'].fillna('NONE', inplace=True)\n",
    "    #monthly_data.rename(columns={\"DISPLAY_AIRPORT_NAME_y\": \"PREVIOUS_AIRPORT\", \"DISPLAY_AIRPORT_NAME_x\": \"DEPARTING_AIRPORT\"}, inplace=True)  \n",
    "\n",
    "    # MERGING\n",
    "    # Merge weather data\n",
    "    print(\"Adding daily weather data - PRCP, SNOW, SNWD, SMAX, TMIN, AWND\")\n",
    "    monthly_data = pd.merge(monthly_data, weather, how='inner', on=['ORIGIN_AIRPORT_ID', 'MONTH', 'DAY_OF_MONTH'])\n",
    "    print(len(monthly_data))\n",
    "    \n",
    "    # reset index\n",
    "    monthly_data.reset_index(inplace=True, drop=True)\n",
    "    \n",
    "    # print elapsed time\n",
    "    #print(f'Elapsed Time: {time.time() - start}')\n",
    "    \n",
    "    print(\"FINISHED\")\n",
    "    \n",
    "    # return cleaned file\n",
    "    return monthly_data"
   ]
  },
  {
   "cell_type": "code",
   "execution_count": null,
   "metadata": {},
   "outputs": [
    {
     "name": "stdout",
     "output_type": "stream",
     "text": [
      "Applying Carrier Names - CARRIER_NAME\n",
      "583985\n",
      "Calculate Fleet Age - PLANE_AGE\n",
      "585967\n",
      "Adding daily weather data - PRCP, SNOW, SNWD, SMAX, TMIN, AWND\n",
      "529867\n",
      "FINISHED\n",
      "Applying Carrier Names - CARRIER_NAME\n",
      "533175\n",
      "Calculate Fleet Age - PLANE_AGE\n",
      "535114\n",
      "Adding daily weather data - PRCP, SNOW, SNWD, SMAX, TMIN, AWND\n",
      "483331\n",
      "FINISHED\n",
      "Applying Carrier Names - CARRIER_NAME\n",
      "632074\n",
      "Calculate Fleet Age - PLANE_AGE\n",
      "634249\n",
      "Adding daily weather data - PRCP, SNOW, SNWD, SMAX, TMIN, AWND\n",
      "572502\n",
      "FINISHED\n",
      "Applying Carrier Names - CARRIER_NAME\n",
      "612023\n",
      "Calculate Fleet Age - PLANE_AGE\n",
      "613640\n",
      "Adding daily weather data - PRCP, SNOW, SNWD, SMAX, TMIN, AWND\n",
      "555593\n",
      "FINISHED\n",
      "Applying Carrier Names - CARRIER_NAME\n",
      "636390\n",
      "Calculate Fleet Age - PLANE_AGE\n",
      "637068\n",
      "Adding daily weather data - PRCP, SNOW, SNWD, SMAX, TMIN, AWND\n",
      "575980\n",
      "FINISHED\n",
      "Applying Carrier Names - CARRIER_NAME\n",
      "636691\n",
      "Calculate Fleet Age - PLANE_AGE\n",
      "637418\n",
      "Adding daily weather data - PRCP, SNOW, SNWD, SMAX, TMIN, AWND\n",
      "572987\n",
      "FINISHED\n",
      "Applying Carrier Names - CARRIER_NAME\n",
      "659029\n",
      "Calculate Fleet Age - PLANE_AGE\n",
      "660353\n",
      "Adding daily weather data - PRCP, SNOW, SNWD, SMAX, TMIN, AWND\n",
      "592496\n",
      "FINISHED\n",
      "Applying Carrier Names - CARRIER_NAME\n",
      "658461\n",
      "Calculate Fleet Age - PLANE_AGE\n",
      "660063\n",
      "Adding daily weather data - PRCP, SNOW, SNWD, SMAX, TMIN, AWND\n",
      "593200\n",
      "FINISHED\n",
      "Applying Carrier Names - CARRIER_NAME\n",
      "605979\n",
      "Calculate Fleet Age - PLANE_AGE\n",
      "607734\n",
      "Adding daily weather data - PRCP, SNOW, SNWD, SMAX, TMIN, AWND\n",
      "548011\n",
      "FINISHED\n",
      "Applying Carrier Names - CARRIER_NAME\n",
      "636014\n",
      "Calculate Fleet Age - PLANE_AGE\n",
      "637946\n",
      "Adding daily weather data - PRCP, SNOW, SNWD, SMAX, TMIN, AWND\n",
      "575831\n",
      "FINISHED\n",
      "Applying Carrier Names - CARRIER_NAME\n",
      "602453\n",
      "Calculate Fleet Age - PLANE_AGE\n",
      "604470\n",
      "Adding daily weather data - PRCP, SNOW, SNWD, SMAX, TMIN, AWND\n",
      "544190\n",
      "FINISHED\n",
      "Applying Carrier Names - CARRIER_NAME\n",
      "625763\n",
      "Calculate Fleet Age - PLANE_AGE\n",
      "627870\n",
      "Adding daily weather data - PRCP, SNOW, SNWD, SMAX, TMIN, AWND\n",
      "564272\n",
      "FINISHED\n"
     ]
    }
   ],
   "source": [
    "# Select files with ONTIME_REPORTING in their name\n",
    "\n",
    "for i in range(12):\n",
    "    df = pd.read_csv('data/raw_data/ONTIME_REPORTING_{:02d}.csv'.format(i+1))\n",
    "    dfs = month_cleanup(df, aircraft, names, weather_merge)\n",
    "    # concat the dataframes every iteration\n",
    "    if i == 0:\n",
    "        df_final = dfs\n",
    "    else:\n",
    "        df_final = pd.concat([df_final, dfs], axis=0)"
   ]
  },
  {
   "cell_type": "markdown",
   "metadata": {},
   "source": [
    "## Exploratory Data Analysis"
   ]
  },
  {
   "cell_type": "code",
   "execution_count": null,
   "metadata": {},
   "outputs": [],
   "source": []
  },
  {
   "cell_type": "markdown",
   "metadata": {},
   "source": [
    "## Preprocessing"
   ]
  },
  {
   "cell_type": "code",
   "execution_count": 3,
   "metadata": {},
   "outputs": [
    {
     "name": "stdout",
     "output_type": "stream",
     "text": [
      "Let's preprocess\n"
     ]
    }
   ],
   "source": [
    "print(\"Let's preprocess\")\n",
    "print(\"NO\")"
   ]
  },
  {
   "cell_type": "markdown",
   "metadata": {},
   "source": [
    "## Training"
   ]
  },
  {
   "cell_type": "markdown",
   "metadata": {},
   "source": [
    "## Evaluation"
   ]
  }
 ],
 "metadata": {
  "kernelspec": {
   "display_name": "ml_ass",
   "language": "python",
   "name": "python3"
  },
  "language_info": {
   "codemirror_mode": {
    "name": "ipython",
    "version": 3
   },
   "file_extension": ".py",
   "mimetype": "text/x-python",
   "name": "python",
   "nbconvert_exporter": "python",
   "pygments_lexer": "ipython3",
   "version": "3.10.10"
  },
  "orig_nbformat": 4
 },
 "nbformat": 4,
 "nbformat_minor": 2
}
