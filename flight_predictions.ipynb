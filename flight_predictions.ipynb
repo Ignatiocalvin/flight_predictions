{
 "cells": [
  {
   "cell_type": "markdown",
   "metadata": {},
   "source": [
    "## Import Packages"
   ]
  },
  {
   "cell_type": "code",
   "execution_count": 2,
   "metadata": {},
   "outputs": [],
   "source": [
    "import pandas as pd\n",
    "import numpy as np"
   ]
  },
  {
   "cell_type": "markdown",
   "metadata": {},
   "source": [
    "## Exploratory Data Analysis"
   ]
  },
  {
   "cell_type": "code",
   "execution_count": 3,
   "metadata": {},
   "outputs": [
    {
     "data": {
      "text/html": [
       "<div>\n",
       "<style scoped>\n",
       "    .dataframe tbody tr th:only-of-type {\n",
       "        vertical-align: middle;\n",
       "    }\n",
       "\n",
       "    .dataframe tbody tr th {\n",
       "        vertical-align: top;\n",
       "    }\n",
       "\n",
       "    .dataframe thead th {\n",
       "        text-align: right;\n",
       "    }\n",
       "</style>\n",
       "<table border=\"1\" class=\"dataframe\">\n",
       "  <thead>\n",
       "    <tr style=\"text-align: right;\">\n",
       "      <th></th>\n",
       "      <th>MONTH</th>\n",
       "      <th>DAY_OF_WEEK</th>\n",
       "      <th>DEP_DEL15</th>\n",
       "      <th>DEP_TIME_BLK</th>\n",
       "      <th>DISTANCE_GROUP</th>\n",
       "      <th>SEGMENT_NUMBER</th>\n",
       "      <th>CONCURRENT_FLIGHTS</th>\n",
       "      <th>NUMBER_OF_SEATS</th>\n",
       "      <th>CARRIER_NAME</th>\n",
       "      <th>AIRPORT_FLIGHTS_MONTH</th>\n",
       "      <th>...</th>\n",
       "      <th>PLANE_AGE</th>\n",
       "      <th>DEPARTING_AIRPORT</th>\n",
       "      <th>LATITUDE</th>\n",
       "      <th>LONGITUDE</th>\n",
       "      <th>PREVIOUS_AIRPORT</th>\n",
       "      <th>PRCP</th>\n",
       "      <th>SNOW</th>\n",
       "      <th>SNWD</th>\n",
       "      <th>TMAX</th>\n",
       "      <th>AWND</th>\n",
       "    </tr>\n",
       "  </thead>\n",
       "  <tbody>\n",
       "    <tr>\n",
       "      <th>0</th>\n",
       "      <td>1</td>\n",
       "      <td>7</td>\n",
       "      <td>0</td>\n",
       "      <td>0800-0859</td>\n",
       "      <td>2</td>\n",
       "      <td>1</td>\n",
       "      <td>25</td>\n",
       "      <td>143</td>\n",
       "      <td>Southwest Airlines Co.</td>\n",
       "      <td>13056</td>\n",
       "      <td>...</td>\n",
       "      <td>8</td>\n",
       "      <td>McCarran International</td>\n",
       "      <td>36.08</td>\n",
       "      <td>-115.152</td>\n",
       "      <td>NONE</td>\n",
       "      <td>0.0</td>\n",
       "      <td>0.0</td>\n",
       "      <td>0.0</td>\n",
       "      <td>65.0</td>\n",
       "      <td>2.91</td>\n",
       "    </tr>\n",
       "    <tr>\n",
       "      <th>1</th>\n",
       "      <td>1</td>\n",
       "      <td>7</td>\n",
       "      <td>0</td>\n",
       "      <td>0700-0759</td>\n",
       "      <td>7</td>\n",
       "      <td>1</td>\n",
       "      <td>29</td>\n",
       "      <td>191</td>\n",
       "      <td>Delta Air Lines Inc.</td>\n",
       "      <td>13056</td>\n",
       "      <td>...</td>\n",
       "      <td>3</td>\n",
       "      <td>McCarran International</td>\n",
       "      <td>36.08</td>\n",
       "      <td>-115.152</td>\n",
       "      <td>NONE</td>\n",
       "      <td>0.0</td>\n",
       "      <td>0.0</td>\n",
       "      <td>0.0</td>\n",
       "      <td>65.0</td>\n",
       "      <td>2.91</td>\n",
       "    </tr>\n",
       "    <tr>\n",
       "      <th>2</th>\n",
       "      <td>1</td>\n",
       "      <td>7</td>\n",
       "      <td>0</td>\n",
       "      <td>0600-0659</td>\n",
       "      <td>7</td>\n",
       "      <td>1</td>\n",
       "      <td>27</td>\n",
       "      <td>199</td>\n",
       "      <td>Delta Air Lines Inc.</td>\n",
       "      <td>13056</td>\n",
       "      <td>...</td>\n",
       "      <td>18</td>\n",
       "      <td>McCarran International</td>\n",
       "      <td>36.08</td>\n",
       "      <td>-115.152</td>\n",
       "      <td>NONE</td>\n",
       "      <td>0.0</td>\n",
       "      <td>0.0</td>\n",
       "      <td>0.0</td>\n",
       "      <td>65.0</td>\n",
       "      <td>2.91</td>\n",
       "    </tr>\n",
       "    <tr>\n",
       "      <th>3</th>\n",
       "      <td>1</td>\n",
       "      <td>7</td>\n",
       "      <td>0</td>\n",
       "      <td>0600-0659</td>\n",
       "      <td>9</td>\n",
       "      <td>1</td>\n",
       "      <td>27</td>\n",
       "      <td>180</td>\n",
       "      <td>Delta Air Lines Inc.</td>\n",
       "      <td>13056</td>\n",
       "      <td>...</td>\n",
       "      <td>2</td>\n",
       "      <td>McCarran International</td>\n",
       "      <td>36.08</td>\n",
       "      <td>-115.152</td>\n",
       "      <td>NONE</td>\n",
       "      <td>0.0</td>\n",
       "      <td>0.0</td>\n",
       "      <td>0.0</td>\n",
       "      <td>65.0</td>\n",
       "      <td>2.91</td>\n",
       "    </tr>\n",
       "    <tr>\n",
       "      <th>4</th>\n",
       "      <td>1</td>\n",
       "      <td>7</td>\n",
       "      <td>0</td>\n",
       "      <td>0001-0559</td>\n",
       "      <td>7</td>\n",
       "      <td>1</td>\n",
       "      <td>10</td>\n",
       "      <td>182</td>\n",
       "      <td>Spirit Air Lines</td>\n",
       "      <td>13056</td>\n",
       "      <td>...</td>\n",
       "      <td>1</td>\n",
       "      <td>McCarran International</td>\n",
       "      <td>36.08</td>\n",
       "      <td>-115.152</td>\n",
       "      <td>NONE</td>\n",
       "      <td>0.0</td>\n",
       "      <td>0.0</td>\n",
       "      <td>0.0</td>\n",
       "      <td>65.0</td>\n",
       "      <td>2.91</td>\n",
       "    </tr>\n",
       "  </tbody>\n",
       "</table>\n",
       "<p>5 rows × 26 columns</p>\n",
       "</div>"
      ],
      "text/plain": [
       "   MONTH  DAY_OF_WEEK  DEP_DEL15 DEP_TIME_BLK  DISTANCE_GROUP  SEGMENT_NUMBER  \\\n",
       "0      1            7          0    0800-0859               2               1   \n",
       "1      1            7          0    0700-0759               7               1   \n",
       "2      1            7          0    0600-0659               7               1   \n",
       "3      1            7          0    0600-0659               9               1   \n",
       "4      1            7          0    0001-0559               7               1   \n",
       "\n",
       "   CONCURRENT_FLIGHTS  NUMBER_OF_SEATS            CARRIER_NAME  \\\n",
       "0                  25              143  Southwest Airlines Co.   \n",
       "1                  29              191    Delta Air Lines Inc.   \n",
       "2                  27              199    Delta Air Lines Inc.   \n",
       "3                  27              180    Delta Air Lines Inc.   \n",
       "4                  10              182        Spirit Air Lines   \n",
       "\n",
       "   AIRPORT_FLIGHTS_MONTH  ...  PLANE_AGE       DEPARTING_AIRPORT  LATITUDE  \\\n",
       "0                  13056  ...          8  McCarran International     36.08   \n",
       "1                  13056  ...          3  McCarran International     36.08   \n",
       "2                  13056  ...         18  McCarran International     36.08   \n",
       "3                  13056  ...          2  McCarran International     36.08   \n",
       "4                  13056  ...          1  McCarran International     36.08   \n",
       "\n",
       "   LONGITUDE  PREVIOUS_AIRPORT  PRCP  SNOW SNWD  TMAX  AWND  \n",
       "0   -115.152              NONE   0.0   0.0  0.0  65.0  2.91  \n",
       "1   -115.152              NONE   0.0   0.0  0.0  65.0  2.91  \n",
       "2   -115.152              NONE   0.0   0.0  0.0  65.0  2.91  \n",
       "3   -115.152              NONE   0.0   0.0  0.0  65.0  2.91  \n",
       "4   -115.152              NONE   0.0   0.0  0.0  65.0  2.91  \n",
       "\n",
       "[5 rows x 26 columns]"
      ]
     },
     "execution_count": 3,
     "metadata": {},
     "output_type": "execute_result"
    }
   ],
   "source": [
    "df = pd.read_csv('data/full_data_flightdelay.csv')\n",
    "df.head()"
   ]
  },
  {
   "cell_type": "markdown",
   "metadata": {},
   "source": [
    "## Preprocessing"
   ]
  },
  {
   "cell_type": "code",
   "execution_count": 3,
   "metadata": {},
   "outputs": [
    {
     "name": "stdout",
     "output_type": "stream",
     "text": [
      "Let's preprocess\n"
     ]
    }
   ],
   "source": [
    "print(\"Let's preprocess\")\n",
    "print(\"NO\")"
   ]
  },
  {
   "cell_type": "markdown",
   "metadata": {},
   "source": [
    "## Training"
   ]
  },
  {
   "cell_type": "markdown",
   "metadata": {},
   "source": [
    "## Evaluation"
   ]
  }
 ],
 "metadata": {
  "kernelspec": {
   "display_name": "ml_ass",
   "language": "python",
   "name": "python3"
  },
  "language_info": {
   "codemirror_mode": {
    "name": "ipython",
    "version": 3
   },
   "file_extension": ".py",
   "mimetype": "text/x-python",
   "name": "python",
   "nbconvert_exporter": "python",
   "pygments_lexer": "ipython3",
   "version": "3.10.10"
  },
  "orig_nbformat": 4
 },
 "nbformat": 4,
 "nbformat_minor": 2
}
