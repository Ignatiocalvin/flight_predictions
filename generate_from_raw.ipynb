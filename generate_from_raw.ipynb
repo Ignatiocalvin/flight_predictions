{
 "cells": [
  {
   "cell_type": "markdown",
   "metadata": {},
   "source": [
    "## Generate Data"
   ]
  },
  {
   "cell_type": "markdown",
   "metadata": {},
   "source": [
    "We decided to merge the datasets ourselves to better practice preprocessing."
   ]
  },
  {
   "cell_type": "code",
   "execution_count": 2,
   "metadata": {},
   "outputs": [],
   "source": [
    "import pandas as pd\n",
    "import numpy as np"
   ]
  },
  {
   "cell_type": "code",
   "execution_count": 3,
   "metadata": {},
   "outputs": [],
   "source": [
    "# Names of the airlines\n",
    "names = pd.read_csv(\"data/raw_data/CARRIER_DECODE.csv\")\n",
    "names.drop_duplicates(inplace=True)\n",
    "names.drop_duplicates(subset=['OP_UNIQUE_CARRIER'], inplace=True)"
   ]
  },
  {
   "cell_type": "code",
   "execution_count": 4,
   "metadata": {},
   "outputs": [],
   "source": [
    "# Passenger handlings\n",
    "employees = pd.read_csv('data/raw_data/P10_EMPLOYEES.csv')\n",
    "employees = employees[['OP_UNIQUE_CARRIER', 'PASS_GEN_SVC_ADMIN', 'PASSENGER_HANDLING']]\n",
    "employees = employees.groupby('OP_UNIQUE_CARRIER').sum().reset_index()"
   ]
  },
  {
   "cell_type": "code",
   "execution_count": 5,
   "metadata": {},
   "outputs": [],
   "source": [
    "# Cities Data\n",
    "cities = pd.read_csv('data/raw_data/airports_list.csv')"
   ]
  },
  {
   "cell_type": "code",
   "execution_count": 6,
   "metadata": {},
   "outputs": [
    {
     "name": "stderr",
     "output_type": "stream",
     "text": [
      "/var/folders/nv/9r2j07yj4w7gpdqz5zp13j3m0000gn/T/ipykernel_44749/1207164921.py:7: SettingWithCopyWarning: \n",
      "A value is trying to be set on a copy of a slice from a DataFrame\n",
      "\n",
      "See the caveats in the documentation: https://pandas.pydata.org/pandas-docs/stable/user_guide/indexing.html#returning-a-view-versus-a-copy\n",
      "  weather['DATE'].loc[slash_indices] =  weather.loc[slash_indices]['DATE'].apply(lambda x: x.split('/')[2] + '-' + x.split('/')[0] + '-' + x.split('/')[1] if len(x.split('/')) > 1 else x)\n"
     ]
    }
   ],
   "source": [
    "# Weather Data\n",
    "weather = pd.read_csv('data/raw_data/airport_weather_2019.csv')\n",
    "\n",
    "# In the DATE column, only show rows which have the format YYYY-MM-DD using regex\n",
    "slash_indices = weather[weather['DATE'].str.contains(r'\\d+/\\d+/\\d{4}')].index\n",
    "\n",
    "weather['DATE'].loc[slash_indices] =  weather.loc[slash_indices]['DATE'].apply(lambda x: x.split('/')[2] + '-' + x.split('/')[0] + '-' + x.split('/')[1] if len(x.split('/')) > 1 else x)\n",
    "\n",
    "weather_merge = pd.merge(cities, weather, how='left', on='NAME')\n",
    "weather_merge.drop(weather_merge.loc[weather_merge['ORIGIN_AIRPORT_ID'].isna()].index, axis=0, inplace=True)\n",
    "\n",
    "weather_merge['MONTH'] = pd.DatetimeIndex(weather_merge['DATE']).month\n",
    "weather_merge['DAY_OF_MONTH'] = pd.DatetimeIndex(weather_merge['DATE']).day"
   ]
  },
  {
   "cell_type": "code",
   "execution_count": 7,
   "metadata": {},
   "outputs": [],
   "source": [
    "# Aircraft Inventory \n",
    "aircraft = pd.read_csv(\"data/raw_data/B43_AIRCRAFT_INVENTORY.csv\",encoding='latin1')"
   ]
  },
  {
   "cell_type": "code",
   "execution_count": 8,
   "metadata": {},
   "outputs": [],
   "source": [
    "def month_cleanup(monthly_data, aircraft, names, weather, cities):\n",
    "    # Dont include aircraft data, monthly airport passengers, \n",
    "    monthly_data.drop(monthly_data.loc[monthly_data['DEP_TIME'].isna()].index, axis=0, inplace=True)\n",
    "    monthly_data.drop(monthly_data.loc[monthly_data['TAIL_NUM'].isna()].index, axis=0, inplace=True)\n",
    "    # MERGING\n",
    "    # Merge to get proper carrier name\n",
    "    print(\"Applying Carrier Names - CARRIER_NAME\")  \n",
    "    monthly_data = pd.merge(monthly_data, names, how='left', on=['OP_UNIQUE_CARRIER'])\n",
    "    print(len(monthly_data))\n",
    "    \n",
    "    # FEATURE ENGINEERING - PLANE AGE\n",
    "    # Calculate age of plane\n",
    "    print(\"Calculate Fleet Age - PLANE_AGE\")\n",
    "    monthly_data = pd.merge(monthly_data, aircraft, how=\"left\", on='TAIL_NUM')\n",
    "    monthly_data['MANUFACTURE_YEAR'].fillna((monthly_data['MANUFACTURE_YEAR'].mean()), inplace=True)\n",
    "    monthly_data['PLANE_AGE'] = 2020 - monthly_data['MANUFACTURE_YEAR']\n",
    "    print(len(monthly_data))\n",
    "\n",
    "    # FEATURE ENGINEERING - PREVIOUS AIRPORT\n",
    "    # Get previous airport for tail number\n",
    "    print(\"Adding airports - PREVIOUS_AIRPORT\")\n",
    "    monthly_data = pd.merge(monthly_data, cities, how='left', on=['ORIGIN_AIRPORT_ID'])\n",
    "    monthly_data[\"SEGMENT_NUMBER\"] = monthly_data.groupby([\"TAIL_NUM\", 'DAY_OF_MONTH'])[\"DEP_TIME\"].rank(\"dense\", ascending=True)\n",
    "    segment_temp = monthly_data[['DAY_OF_MONTH', 'TAIL_NUM', 'DISPLAY_AIRPORT_NAME', 'SEGMENT_NUMBER']]\n",
    "    monthly_data = pd.merge_asof(monthly_data.sort_values('SEGMENT_NUMBER'), segment_temp.sort_values('SEGMENT_NUMBER'), on='SEGMENT_NUMBER', by=['DAY_OF_MONTH', 'TAIL_NUM'], allow_exact_matches=False)\n",
    "    monthly_data['DISPLAY_AIRPORT_NAME_y'].fillna('NONE', inplace=True)\n",
    "    monthly_data.rename(columns={\"DISPLAY_AIRPORT_NAME_y\": \"PREVIOUS_AIRPORT\", \"DISPLAY_AIRPORT_NAME_x\": \"DEPARTING_AIRPORT\"}, inplace=True)  \n",
    "\n",
    "    # MERGING\n",
    "    # Merge weather data\n",
    "    print(\"Adding daily weather data - PRCP, SNOW, SNWD, SMAX, TMIN, AWND\")\n",
    "    monthly_data = pd.merge(monthly_data, weather, how='inner', on=['ORIGIN_AIRPORT_ID', 'MONTH', 'DAY_OF_MONTH'])\n",
    "    print(len(monthly_data))\n",
    "    \n",
    "    # reset index\n",
    "    monthly_data.reset_index(inplace=True, drop=True)\n",
    "    \n",
    "    # print elapsed time\n",
    "    #print(f'Elapsed Time: {time.time() - start}')\n",
    "    \n",
    "    print(\"FINISHED\")\n",
    "    \n",
    "    # return cleaned file\n",
    "    return monthly_data"
   ]
  },
  {
   "cell_type": "code",
   "execution_count": 9,
   "metadata": {},
   "outputs": [
    {
     "name": "stdout",
     "output_type": "stream",
     "text": [
      "Applying Carrier Names - CARRIER_NAME\n",
      "567633\n",
      "Calculate Fleet Age - PLANE_AGE\n",
      "569288\n",
      "Adding airports - PREVIOUS_AIRPORT\n",
      "Adding daily weather data - PRCP, SNOW, SNWD, SMAX, TMIN, AWND\n",
      "515405\n",
      "FINISHED\n",
      "Applying Carrier Names - CARRIER_NAME\n",
      "518351\n",
      "Calculate Fleet Age - PLANE_AGE\n",
      "520159\n",
      "Adding airports - PREVIOUS_AIRPORT\n",
      "Adding daily weather data - PRCP, SNOW, SNWD, SMAX, TMIN, AWND\n",
      "470587\n",
      "FINISHED\n",
      "Applying Carrier Names - CARRIER_NAME\n",
      "619750\n",
      "Calculate Fleet Age - PLANE_AGE\n",
      "621843\n",
      "Adding airports - PREVIOUS_AIRPORT\n",
      "Adding daily weather data - PRCP, SNOW, SNWD, SMAX, TMIN, AWND\n",
      "561393\n",
      "FINISHED\n",
      "Applying Carrier Names - CARRIER_NAME\n",
      "597886\n",
      "Calculate Fleet Age - PLANE_AGE\n",
      "599390\n",
      "Adding airports - PREVIOUS_AIRPORT\n",
      "Adding daily weather data - PRCP, SNOW, SNWD, SMAX, TMIN, AWND\n",
      "542820\n",
      "FINISHED\n",
      "Applying Carrier Names - CARRIER_NAME\n",
      "623910\n",
      "Calculate Fleet Age - PLANE_AGE\n",
      "624554\n",
      "Adding airports - PREVIOUS_AIRPORT\n",
      "Adding daily weather data - PRCP, SNOW, SNWD, SMAX, TMIN, AWND\n",
      "564788\n",
      "FINISHED\n",
      "Applying Carrier Names - CARRIER_NAME\n",
      "624045\n",
      "Calculate Fleet Age - PLANE_AGE\n",
      "624748\n",
      "Adding airports - PREVIOUS_AIRPORT\n",
      "Adding daily weather data - PRCP, SNOW, SNWD, SMAX, TMIN, AWND\n",
      "561844\n",
      "FINISHED\n",
      "Applying Carrier Names - CARRIER_NAME\n",
      "646817\n",
      "Calculate Fleet Age - PLANE_AGE\n",
      "648125\n",
      "Adding airports - PREVIOUS_AIRPORT\n",
      "Adding daily weather data - PRCP, SNOW, SNWD, SMAX, TMIN, AWND\n",
      "581425\n",
      "FINISHED\n",
      "Applying Carrier Names - CARRIER_NAME\n",
      "647780\n",
      "Calculate Fleet Age - PLANE_AGE\n",
      "649355\n",
      "Adding airports - PREVIOUS_AIRPORT\n",
      "Adding daily weather data - PRCP, SNOW, SNWD, SMAX, TMIN, AWND\n",
      "583631\n",
      "FINISHED\n",
      "Applying Carrier Names - CARRIER_NAME\n",
      "596198\n",
      "Calculate Fleet Age - PLANE_AGE\n",
      "597896\n",
      "Adding airports - PREVIOUS_AIRPORT\n",
      "Adding daily weather data - PRCP, SNOW, SNWD, SMAX, TMIN, AWND\n",
      "539329\n",
      "FINISHED\n",
      "Applying Carrier Names - CARRIER_NAME\n",
      "631100\n",
      "Calculate Fleet Age - PLANE_AGE\n",
      "632995\n",
      "Adding airports - PREVIOUS_AIRPORT\n",
      "Adding daily weather data - PRCP, SNOW, SNWD, SMAX, TMIN, AWND\n",
      "571637\n",
      "FINISHED\n",
      "Applying Carrier Names - CARRIER_NAME\n",
      "598227\n",
      "Calculate Fleet Age - PLANE_AGE\n",
      "600183\n",
      "Adding airports - PREVIOUS_AIRPORT\n",
      "Adding daily weather data - PRCP, SNOW, SNWD, SMAX, TMIN, AWND\n",
      "540664\n",
      "FINISHED\n",
      "Applying Carrier Names - CARRIER_NAME\n",
      "620253\n",
      "Calculate Fleet Age - PLANE_AGE\n",
      "622296\n",
      "Adding airports - PREVIOUS_AIRPORT\n",
      "Adding daily weather data - PRCP, SNOW, SNWD, SMAX, TMIN, AWND\n",
      "559786\n",
      "FINISHED\n"
     ]
    }
   ],
   "source": [
    "# Select files with ONTIME_REPORTING in their name\n",
    "\n",
    "for i in range(12):\n",
    "    df = pd.read_csv('data/raw_data/ONTIME_REPORTING_{:02d}.csv'.format(i+1))\n",
    "    dfs = month_cleanup(df, aircraft, names, weather_merge, cities)\n",
    "    # concat the dataframes every iteration\n",
    "    if i == 0:\n",
    "        df_final = dfs\n",
    "    else:\n",
    "        df_final = pd.concat([df_final, dfs], axis=0)"
   ]
  },
  {
   "cell_type": "code",
   "execution_count": 10,
   "metadata": {},
   "outputs": [],
   "source": [
    "df_final.to_csv('data/5guys_flight_data.csv', index=False)"
   ]
  }
 ],
 "metadata": {
  "kernelspec": {
   "display_name": "cv",
   "language": "python",
   "name": "python3"
  },
  "language_info": {
   "codemirror_mode": {
    "name": "ipython",
    "version": 3
   },
   "file_extension": ".py",
   "mimetype": "text/x-python",
   "name": "python",
   "nbconvert_exporter": "python",
   "pygments_lexer": "ipython3",
   "version": "3.10.10"
  },
  "orig_nbformat": 4
 },
 "nbformat": 4,
 "nbformat_minor": 2
}
